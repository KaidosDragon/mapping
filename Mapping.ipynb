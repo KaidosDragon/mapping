{
 "cells": [
  {
   "cell_type": "code",
   "execution_count": 36,
   "metadata": {},
   "outputs": [],
   "source": [
    "'''Folium is a Python library used for visualizing geospatial data'''\n",
    "\n",
    "import folium\n",
    "\n",
    "'''pandas is a software library written for the Python programming language\n",
    "for data manipulation and analysis'''\n",
    "\n",
    "import pandas as pd\n",
    "\n",
    "'''Reading the csv file'''\n",
    "\n",
    "data = pd.read_csv('islands.csv')\n",
    "\n",
    "'''Setting the data sets from each part of the table'''\n",
    "\n",
    "lat = list(data['Latitude '])\n",
    "lon = list(data['Longitude '])\n",
    "elev = list(data['Elevation'])\n",
    "\n",
    "'''Here we create a function which check through the elevation list \n",
    "and set a variation in colour depending on level of elevation'''\n",
    "\n",
    "def colour_Producer(elevation):\n",
    "    if elevation < 1500:\n",
    "        return 'blue'\n",
    "    elif 2300 <= elevation < 2700:\n",
    "        return 'orange'\n",
    "    else:\n",
    "        return 'red'\n",
    "    \n",
    "'''The map variable contains the default location of the map as well as zoom and type of tiles'''\n",
    "\n",
    "map = folium.Map(location =[21.4691137, -78.6568942], zoom_start=6, tiles = \"Stamen Terrain\")\n",
    "\n",
    "'''The fgm variable is the feature group for each mountain in the chosen locations'''\n",
    "\n",
    "fgm = folium.FeatureGroup(name = \"Mountains\")\n",
    "\n",
    "'''Here we iterate through each data set and add a layer of markers, colours,\n",
    "we also add the function colour_producer '''\n",
    "\n",
    "for lt, ln, el in zip(lat, lon, elev):\n",
    "    fgm.add_child(folium.CircleMarker(location = [lt,ln], radius = 6, popup = str(el)+ 'm',\n",
    "                                     fill_color = colour_Producer(el),\n",
    "                                                        color = 'grey', fill_opacity = 0.9))\n",
    "    \n",
    "'''The fgp variable is the feature group for each popluation on the map'''\n",
    "\n",
    "fgp = folium.FeatureGroup(name = \"Population\")\n",
    "\n",
    "'''Here we add a layer of... to the map, as well as open the world.json file,\n",
    "which contains a range of info about the world from 2008, we then read the file\n",
    "and lastly differentiate the population of the map by colour '''\n",
    "\n",
    "fgp.add_child(folium.GeoJson(data = open('world.json', 'r', encoding = 'utf-8-sig').read(),\n",
    "                            style_function = lambda x: \n",
    "                            {'fillColor':'green' if x['properties']['POP2005'] < 10000000\n",
    "                            else 'orange' if 10000000 <= x['properties']['POP2005'] < 20000000 else 'red'}))\n",
    "''' We then add each feature to the map'''    \n",
    "map.add_child(fgm)\n",
    "map.add_child(fgp)\n",
    "map.add_child(folium.LayerControl())  \n",
    "\n",
    "'''Lastyly we save the the details'''\n",
    "map.save(\"Map1.html\")"
   ]
  },
  {
   "cell_type": "code",
   "execution_count": null,
   "metadata": {},
   "outputs": [],
   "source": []
  },
  {
   "cell_type": "code",
   "execution_count": null,
   "metadata": {},
   "outputs": [],
   "source": []
  },
  {
   "cell_type": "code",
   "execution_count": null,
   "metadata": {},
   "outputs": [],
   "source": []
  }
 ],
 "metadata": {
  "kernelspec": {
   "display_name": "Python 3",
   "language": "python",
   "name": "python3"
  },
  "language_info": {
   "codemirror_mode": {
    "name": "ipython",
    "version": 3
   },
   "file_extension": ".py",
   "mimetype": "text/x-python",
   "name": "python",
   "nbconvert_exporter": "python",
   "pygments_lexer": "ipython3",
   "version": "3.8.1"
  }
 },
 "nbformat": 4,
 "nbformat_minor": 4
}
